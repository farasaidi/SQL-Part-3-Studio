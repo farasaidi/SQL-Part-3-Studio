{
    "metadata": {
        "kernelspec": {
            "name": "SQL",
            "display_name": "SQL",
            "language": "sql"
        },
        "language_info": {
            "name": "sql",
            "version": ""
        },
        "extensions": {
            "azuredatastudio": {
                "version": 1,
                "views": []
            }
        }
    },
    "nbformat_minor": 2,
    "nbformat": 4,
    "cells": [
        {
            "cell_type": "markdown",
            "source": [
                "# SQL Part 3 Studio\n",
                "\n",
                "### Let's practice your SQL quering skills!  For each question, work along in the notebook adding your query and answering the questions. \n",
                "\n",
                "### **DataSet**\n",
                "\n",
                "### <span style=\"font-size: 14px; font-family: -apple-system, BlinkMacSystemFont, sans-serif;\">We will be using the Goodbooks-10k dataset from the exercises in the prep work.&nbsp; Feel free reference your previous notebooks.</span>\n",
                "\n",
                "- The dataset can be found here: [goodbooks-10k](https://www.kaggle.com/zygmunt/goodbooks-10k)\n",
                "- You can access the **BooksDB** in the Launchcode server.\n",
                "\n",
                "### **Business Issue**\n",
                "\n",
                "You are an employee at a small independet bookstore and you have been tasked to increase sales.  You decide to use the BooksDB to find books and themes to highlight in fun promotions throughout each month / season.  We will be starting with March and then you will have a chance to explore another month of your choosing.  We want to come up with a list of events/ promotions to run each month.  If you are looking for ideas to include in your promotions:\n",
                "\n",
                "- [https://www.calendarr.com/united-states/calendar-2022/](https://www.calendarr.com/united-states/calendar-2022/)\n",
                "- [https://www.holidayinsights.com/moreholidays/](https://www.holidayinsights.com/moreholidays/)\n",
                "    - Click on a month and it will take you to a more detailed page"
            ],
            "metadata": {
                "azdata_cell_guid": "b9034d8a-b631-48bf-a895-1012a6ffa784"
            },
            "attachments": {}
        },
        {
            "cell_type": "markdown",
            "source": [
                "## Part 1:  March - Women's History Month, Dr Seuss Day(3/2), National Pie Day3/14, St Patrick's Day (3/17), Season - Spring"
            ],
            "metadata": {
                "azdata_cell_guid": "6e55eb1c-4a14-4076-90d2-95ed17a6309f"
            },
            "attachments": {}
        },
        {
            "cell_type": "markdown",
            "source": [
                "### **Event 1:** Women's History Month\n",
                "\n",
                "Goal: Highlight Popular Womans Authors based on ratings from the Good Reads DB.\n",
                "\n",
                "### **Write a query that returns tag\\_id, the number of times each tag\\_id is used and the tag\\_name.**  \n",
                "\n",
                "### Use the GROUP BY and HAVING clause to narrow your focus.\n",
                "\n",
                "Try multiple keywords, ie woman vs female (female ended up giving better results)"
            ],
            "metadata": {
                "azdata_cell_guid": "d220c097-e9cf-4edd-9abe-312d071217b7"
            },
            "attachments": {}
        },
        {
            "cell_type": "code",
            "source": [
                "-- Solution\n",
                "-- SELECT authors, COUNT(t.tag_id) count\n",
                "-- FROM BooksDB.dbo.books b\n",
                "-- left join BooksDB.dbo.book_tags bt\n",
                "-- on b.best_book_id = bt.goodreads_book_id\n",
                "-- join BooksDB.dbo.tags t\n",
                "-- on bt.tag_id = t.tag_id\n",
                "-- group by t.tag_id\n",
                "\n",
                "-- SELECT b.authors, t.tag_name, AVG(b.average_rating) AS avg_rating\n",
                "-- FROM BooksDB.dbo.books b\n",
                "-- JOIN BooksDB.dbo.book_tags bt ON  b.best_book_id = bt.goodreads_book_id\n",
                "-- join BooksDB.dbo.tags t on bt.tag_id = t.tag_id\n",
                "-- WHERE t.tag_name = 'female'\n",
                "-- GROUP BY b.authors, t.tag_name\n",
                "-- HAVING AVG(b.average_rating) >= 4.0\n",
                "-- ORDER BY AVG(b.average_rating) DESC\n",
                "\n",
                "SELECT b.authors, t.tag_name, b.average_rating\n",
                "FROM BooksDB.dbo.books b\n",
                "JOIN BooksDB.dbo.book_tags bt ON b.best_book_id = bt.goodreads_book_id\n",
                "JOIN BooksDB.dbo.tags t ON bt.tag_id = t.tag_id\n",
                "WHERE t.tag_name = 'female' AND b.average_rating >= 4.0\n",
                "GROUP BY b.authors, t.tag_name, b.average_rating\n",
                "ORDER BY b.average_rating DESC"
            ],
            "metadata": {
                "azdata_cell_guid": "e31b9d26-0386-44c7-828e-85f4f06f3ee6",
                "language": "sql"
            },
            "outputs": [
                {
                    "output_type": "display_data",
                    "data": {
                        "text/html": "(9 rows affected)"
                    },
                    "metadata": {}
                },
                {
                    "output_type": "display_data",
                    "data": {
                        "text/html": "Total execution time: 00:00:00.159"
                    },
                    "metadata": {}
                },
                {
                    "output_type": "execute_result",
                    "metadata": {},
                    "execution_count": 9,
                    "data": {
                        "application/vnd.dataresource+json": {
                            "schema": {
                                "fields": [
                                    {
                                        "name": "authors"
                                    },
                                    {
                                        "name": "tag_name"
                                    },
                                    {
                                        "name": "average_rating"
                                    }
                                ]
                            },
                            "data": [
                                {
                                    "0": "Sylvia Plath",
                                    "1": "female",
                                    "2": "4.23"
                                },
                                {
                                    "0": "Emily Dickinson",
                                    "1": "female",
                                    "2": "4.16"
                                },
                                {
                                    "0": "Andrea Kettenmann",
                                    "1": "female",
                                    "2": "4.15"
                                },
                                {
                                    "0": "Lorrie Moore",
                                    "1": "female",
                                    "2": "4.12"
                                },
                                {
                                    "0": "Kate Chopin",
                                    "1": "female",
                                    "2": "4.08"
                                },
                                {
                                    "0": "Yuu Watase, Yuji Oniki",
                                    "1": "female",
                                    "2": "4.08"
                                },
                                {
                                    "0": "James Patterson",
                                    "1": "female",
                                    "2": "4.05"
                                },
                                {
                                    "0": "James Patterson, Andrew Gross",
                                    "1": "female",
                                    "2": "4.01"
                                },
                                {
                                    "0": "James Patterson, Andrew Gross",
                                    "1": "female",
                                    "2": "4"
                                }
                            ]
                        },
                        "text/html": [
                            "<table>",
                            "<tr><th>authors</th><th>tag_name</th><th>average_rating</th></tr>",
                            "<tr><td>Sylvia Plath</td><td>female</td><td>4.23</td></tr>",
                            "<tr><td>Emily Dickinson</td><td>female</td><td>4.16</td></tr>",
                            "<tr><td>Andrea Kettenmann</td><td>female</td><td>4.15</td></tr>",
                            "<tr><td>Lorrie Moore</td><td>female</td><td>4.12</td></tr>",
                            "<tr><td>Kate Chopin</td><td>female</td><td>4.08</td></tr>",
                            "<tr><td>Yuu Watase, Yuji Oniki</td><td>female</td><td>4.08</td></tr>",
                            "<tr><td>James Patterson</td><td>female</td><td>4.05</td></tr>",
                            "<tr><td>James Patterson, Andrew Gross</td><td>female</td><td>4.01</td></tr>",
                            "<tr><td>James Patterson, Andrew Gross</td><td>female</td><td>4</td></tr>",
                            "</table>"
                        ]
                    }
                }
            ],
            "execution_count": 9
        },
        {
            "cell_type": "markdown",
            "source": [
                "### **Which keyword(s) and tag(s) would you like to explore more?**\n",
                "\n",
                "tag\\_id.       tag\\_name\n",
                "\n",
                "43 \\-read"
            ],
            "metadata": {
                "azdata_cell_guid": "e9acd8b5-a62b-4ac0-bd07-19915b379ba6"
            },
            "attachments": {}
        },
        {
            "cell_type": "markdown",
            "source": [
                "### **Write a query to return authors, titles, ratings and** **selected tag(s)\\_id.**"
            ],
            "metadata": {
                "azdata_cell_guid": "59b84464-c0bc-4dac-9e02-0c803765b063"
            },
            "attachments": {}
        },
        {
            "cell_type": "code",
            "source": [
                "-- Solution\n",
                "SELECT b.authors, b.title, b.ratings_count, t.tag_id\n",
                "FROM BooksDB.dbo.tags t\n",
                "join BooksDB.dbo.book_tags bt \n",
                "on bt.tag_id=t.tag_id\n",
                "join BooksDB.dbo.books b\n",
                "on bt.goodreads_book_id=b.best_book_id\n",
                "where t.tag_id = 43 \n",
                "f"
            ],
            "metadata": {
                "azdata_cell_guid": "51ffeaaf-6dde-4906-95f3-eb8757babf27",
                "tags": [],
                "language": "sql"
            },
            "outputs": [
                {
                    "output_type": "display_data",
                    "data": {
                        "text/html": "(5 rows affected)"
                    },
                    "metadata": {}
                },
                {
                    "output_type": "display_data",
                    "data": {
                        "text/html": "Total execution time: 00:00:00.159"
                    },
                    "metadata": {}
                },
                {
                    "output_type": "execute_result",
                    "execution_count": 9,
                    "data": {
                        "application/vnd.dataresource+json": {
                            "schema": {
                                "fields": [
                                    {
                                        "name": "authors"
                                    },
                                    {
                                        "name": "title"
                                    },
                                    {
                                        "name": "ratings_count"
                                    },
                                    {
                                        "name": "tag_id"
                                    }
                                ]
                            },
                            "data": [
                                {
                                    "0": "Max Lucado",
                                    "1": "He Chose the Nails",
                                    "2": "19028",
                                    "3": "43"
                                },
                                {
                                    "0": "Dale Brown",
                                    "1": "Flight of the Old Dog (Patrick McLanahan, #1)",
                                    "2": "13607",
                                    "3": "43"
                                },
                                {
                                    "0": "Robert Ludlum",
                                    "1": "The Matlock Paper",
                                    "2": "11118",
                                    "3": "43"
                                },
                                {
                                    "0": "Larry Bond, Patrick Larkin",
                                    "1": "Red Phoenix (Red Phoenix #1)",
                                    "2": "10098",
                                    "3": "43"
                                },
                                {
                                    "0": "Joel Osteen",
                                    "1": "Become a Better You: 7 Keys to Improving Your Life Every Day",
                                    "2": "8553",
                                    "3": "43"
                                }
                            ]
                        },
                        "text/html": "<table><tr><th>authors</th><th>title</th><th>ratings_count</th><th>tag_id</th></tr><tr><td>Max Lucado</td><td>He Chose the Nails</td><td>19028</td><td>43</td></tr><tr><td>Dale Brown</td><td>Flight of the Old Dog (Patrick McLanahan, #1)</td><td>13607</td><td>43</td></tr><tr><td>Robert Ludlum</td><td>The Matlock Paper</td><td>11118</td><td>43</td></tr><tr><td>Larry Bond, Patrick Larkin</td><td>Red Phoenix (Red Phoenix #1)</td><td>10098</td><td>43</td></tr><tr><td>Joel Osteen</td><td>Become a Better You: 7 Keys to Improving Your Life Every Day</td><td>8553</td><td>43</td></tr></table>"
                    },
                    "metadata": {}
                }
            ],
            "execution_count": 9
        },
        {
            "cell_type": "markdown",
            "source": [
                "### **Record your thoughts about why you wrote the query the way you did.**"
            ],
            "metadata": {
                "azdata_cell_guid": "1e19a72c-1bca-446b-a0c7-a8efbc35dcf1"
            },
            "attachments": {}
        },
        {
            "cell_type": "code",
            "source": [
                "--Event 2\n",
                "--1\n",
                "\n",
                "SELECT top (100) t.tag_id, bt.tag_name, count(*) time_used\n",
                "\n",
                "FROM BooksDB.dbo.tags t\n",
                "\n",
                "full join BooksDB.dbo.tags bt\n",
                "\n",
                "on bt.tag_id=t.tag_id\n",
                "\n",
                "group by t.tag_id, bt.tag_name\n",
                "\n",
                "having t.tag_name like '%math'\n",
                "\n",
                "order by time_used DESC\n",
                "\n",
                "\n",
                "--2\n",
                "SELECT b.authors, b.title, b.average_rating, t.tag_id\n",
                "\n",
                "FROM BooksDB.dbo.book_tags t\n",
                "\n",
                "INNER join BooksDB.dbo.books b\n",
                "\n",
                "on t.goodreads_book_id=b.best_book_id\n",
                "\n",
                "where t.tag_id = 19445\n",
                "\n",
                "ORDER By tag_id, average_rating DESC"
            ],
            "metadata": {
                "azdata_cell_guid": "71e7de4c-7343-408e-a09b-06d911ff3be4",
                "language": "sql"
            },
            "outputs": [
                {
                    "output_type": "display_data",
                    "data": {
                        "text/html": "(53 rows affected)"
                    },
                    "metadata": {}
                },
                {
                    "output_type": "display_data",
                    "data": {
                        "text/html": "Total execution time: 00:00:00.172"
                    },
                    "metadata": {}
                },
                {
                    "output_type": "execute_result",
                    "metadata": {},
                    "execution_count": 11,
                    "data": {
                        "application/vnd.dataresource+json": {
                            "schema": {
                                "fields": [
                                    {
                                        "name": "authors"
                                    },
                                    {
                                        "name": "title"
                                    },
                                    {
                                        "name": "average_rating"
                                    },
                                    {
                                        "name": "tag_id"
                                    }
                                ]
                            },
                            "data": [
                                {
                                    "0": "Hervé Tullet, Christopher Franceschelli",
                                    "1": "Press Here",
                                    "2": "4.44",
                                    "3": "19445"
                                },
                                {
                                    "0": "Kevin Henkes",
                                    "1": "Chrysanthemum",
                                    "2": "4.31",
                                    "3": "19445"
                                },
                                {
                                    "0": "Douglas R. Hofstadter",
                                    "1": "Gödel, Escher, Bach: An Eternal Golden Braid",
                                    "2": "4.3",
                                    "3": "19445"
                                },
                                {
                                    "0": "Eric Carle",
                                    "1": "The Very Hungry Caterpillar Board Book",
                                    "2": "4.29",
                                    "3": "19445"
                                },
                                {
                                    "0": "Richard Feynman",
                                    "1": "Surely You're Joking, Mr. Feynman!: Adventures of a Curious Character",
                                    "2": "4.29",
                                    "3": "19445"
                                },
                                {
                                    "0": "Simon Singh",
                                    "1": "The Code Book: The Science of Secrecy from Ancient Egypt to Quantum Cryptography",
                                    "2": "4.28",
                                    "3": "19445"
                                },
                                {
                                    "0": "Audrey Wood, Don    Wood",
                                    "1": "The Napping House",
                                    "2": "4.27",
                                    "3": "19445"
                                },
                                {
                                    "0": "Neal Stephenson",
                                    "1": "Cryptonomicon",
                                    "2": "4.25",
                                    "3": "19445"
                                },
                                {
                                    "0": "Michael   Lewis",
                                    "1": "Moneyball: The Art of Winning an Unfair Game",
                                    "2": "4.24",
                                    "3": "19445"
                                },
                                {
                                    "0": "Richard Feynman",
                                    "1": "QED: The Strange Theory of Light and Matter",
                                    "2": "4.23",
                                    "3": "19445"
                                },
                                {
                                    "0": "Kevin Henkes",
                                    "1": "Wemberly Worried",
                                    "2": "4.22",
                                    "3": "19445"
                                },
                                {
                                    "0": "Norton Juster, Jules Feiffer",
                                    "1": "The Phantom Tollbooth",
                                    "2": "4.22",
                                    "3": "19445"
                                },
                                {
                                    "0": "Simon Singh",
                                    "1": "Fermat's Enigma: The Epic Quest to Solve the World's Greatest Mathematical Problem",
                                    "2": "4.22",
                                    "3": "19445"
                                },
                                {
                                    "0": "Vera B. Williams",
                                    "1": "A Chair for My Mother",
                                    "2": "4.2",
                                    "3": "19445"
                                },
                                {
                                    "0": "Tom Stoppard",
                                    "1": "Arcadia",
                                    "2": "4.19",
                                    "3": "19445"
                                },
                                {
                                    "0": "Richard Feynman",
                                    "1": "Six Easy Pieces: Essentials of Physics By Its Most Brilliant Teacher",
                                    "2": "4.19",
                                    "3": "19445"
                                },
                                {
                                    "0": "Neal Stephenson",
                                    "1": "Anathem",
                                    "2": "4.18",
                                    "3": "19445"
                                },
                                {
                                    "0": "Randall Munroe",
                                    "1": "What If?: Serious Scientific Answers to Absurd Hypothetical Questions",
                                    "2": "4.17",
                                    "3": "19445"
                                },
                                {
                                    "0": "Albert Einstein, Nigel Calder, Robert W. Lawson",
                                    "1": "Relativity: The Special and the General Theory",
                                    "2": "4.17",
                                    "3": "19445"
                                },
                                {
                                    "0": "James Gleick",
                                    "1": "Genius: The Life and Science of Richard Feynman",
                                    "2": "4.16",
                                    "3": "19445"
                                },
                                {
                                    "0": "Bruno Ernst, M.C. Escher, John E. Brigham",
                                    "1": "The Magic Mirror of M.C. Escher",
                                    "2": "4.15",
                                    "3": "19445"
                                },
                                {
                                    "0": "Ellen Stoll Walsh",
                                    "1": "Mouse Paint",
                                    "2": "4.15",
                                    "3": "19445"
                                },
                                {
                                    "0": "Dr. Seuss",
                                    "1": "One Fish, Two Fish, Red Fish, Blue Fish",
                                    "2": "4.12",
                                    "3": "19445"
                                },
                                {
                                    "0": "Sylvia Nasar",
                                    "1": "A Beautiful Mind",
                                    "2": "4.12",
                                    "3": "19445"
                                },
                                {
                                    "0": "Esphyr Slobodkina",
                                    "1": "Caps for Sale: A Tale of a Peddler, Some Monkeys and Their Monkey Business",
                                    "2": "4.12",
                                    "3": "19445"
                                },
                                {
                                    "0": "Michio Kaku",
                                    "1": "Hyperspace",
                                    "2": "4.11",
                                    "3": "19445"
                                },
                                {
                                    "0": "Theo LeSieg, Roy McKie",
                                    "1": "Ten Apples Up On Top!",
                                    "2": "4.11",
                                    "3": "19445"
                                },
                                {
                                    "0": "Jean Lee Latham",
                                    "1": "Carry On, Mr. Bowditch",
                                    "2": "4.11",
                                    "3": "19445"
                                },
                                {
                                    "0": "Eric Carle",
                                    "1": "The Grouchy Ladybug",
                                    "2": "4.09",
                                    "3": "19445"
                                },
                                {
                                    "0": "Wanda Gág",
                                    "1": "Millions of Cats",
                                    "2": "4.08",
                                    "3": "19445"
                                },
                                {
                                    "0": "Ludwig Wittgenstein",
                                    "1": "Tractatus Logico-Philosophicus",
                                    "2": "4.06",
                                    "3": "19445"
                                },
                                {
                                    "0": "Burton G. Malkiel",
                                    "1": "A Random Walk Down Wall Street",
                                    "2": "4.05",
                                    "3": "19445"
                                },
                                {
                                    "0": "Nassim Nicholas Taleb",
                                    "1": "Fooled by Randomness: The Hidden Role of Chance in Life and in the Markets",
                                    "2": "4.05",
                                    "3": "19445"
                                },
                                {
                                    "0": "Nassim Nicholas Taleb",
                                    "1": "Antifragile: Things That Gain from Disorder",
                                    "2": "4.04",
                                    "3": "19445"
                                },
                                {
                                    "0": "David Auburn",
                                    "1": "Proof",
                                    "2": "4.01",
                                    "3": "19445"
                                },
                                {
                                    "0": "Apostolos Doxiadis, Christos H. Papadimitriou, Alecos Papadatos, Annie Di Donna",
                                    "1": "Logicomix: An epic search for truth",
                                    "2": "4.01",
                                    "3": "19445"
                                },
                                {
                                    "0": "James Gleick",
                                    "1": "The Information: A History, a Theory, a Flood",
                                    "2": "3.98",
                                    "3": "19445"
                                },
                                {
                                    "0": "James Gleick",
                                    "1": "Chaos: Making a New Science",
                                    "2": "3.98",
                                    "3": "19445"
                                },
                                {
                                    "0": "Fritjof Capra",
                                    "1": "The Tao of Physics: An Exploration of the Parallels between Modern Physics and Eastern Mysticism",
                                    "2": "3.96",
                                    "3": "19445"
                                },
                                {
                                    "0": "Nate Silver",
                                    "1": "The Signal and the Noise: Why So Many Predictions Fail - But Some Don't",
                                    "2": "3.96",
                                    "3": "19445"
                                },
                                {
                                    "0": "Dava Sobel, Neil Armstrong",
                                    "1": "Longitude: The True Story of a Lone Genius Who Solved the Greatest Scientific Problem of His Time",
                                    "2": "3.95",
                                    "3": "19445"
                                },
                                {
                                    "0": "Yōko Ogawa, Stephen Snyder",
                                    "1": "The Housekeeper and the Professor",
                                    "2": "3.94",
                                    "3": "19445"
                                },
                                {
                                    "0": "M.C. Escher, Bruce Brooks Pfeiffer",
                                    "1": "M.C. Escher: The Graphic Work",
                                    "2": "3.93",
                                    "3": "19445"
                                },
                                {
                                    "0": "Margot Lee Shetterly",
                                    "1": "Hidden Figures: The American Dream and the Untold Story of the Black Women Mathematicians Who Helped Win the Space Race",
                                    "2": "3.92",
                                    "3": "19445"
                                },
                                {
                                    "0": "Jacqueline Davies",
                                    "1": "The Lemonade War (The Lemonade War, #1)",
                                    "2": "3.88",
                                    "3": "19445"
                                },
                                {
                                    "0": "Nassim Nicholas Taleb",
                                    "1": "The Black Swan: The Impact of the Highly Improbable",
                                    "2": "3.88",
                                    "3": "19445"
                                },
                                {
                                    "0": "Leonard Mlodinow",
                                    "1": "The Drunkard's Walk: How Randomness Rules Our Lives",
                                    "2": "3.88",
                                    "3": "19445"
                                },
                                {
                                    "0": "Ben Mezrich",
                                    "1": "Bringing Down the House: The Inside Story of Six M.I.T. Students Who Took Vegas for Millions",
                                    "2": "3.87",
                                    "3": "19445"
                                },
                                {
                                    "0": "Daniel Tammet",
                                    "1": "Born on a Blue Day: Inside the Extraordinary Mind of an Autistic Savant",
                                    "2": "3.84",
                                    "3": "19445"
                                },
                                {
                                    "0": "Edwin A. Abbott, Banesh Hoffmann",
                                    "1": "Flatland: A Romance of Many Dimensions",
                                    "2": "3.81",
                                    "3": "19445"
                                },
                                {
                                    "0": "Christian Rudder",
                                    "1": "Dataclysm: Who We Are (When We Think No One's Looking)",
                                    "2": "3.72",
                                    "3": "19445"
                                },
                                {
                                    "0": "Blue Balliett, Brett Helquist",
                                    "1": "Chasing Vermeer (Chasing Vermeer, #1)",
                                    "2": "3.71",
                                    "3": "19445"
                                },
                                {
                                    "0": "Paolo Giordano, Shaun Whiteside",
                                    "1": "The Solitude of Prime Numbers",
                                    "2": "3.58",
                                    "3": "19445"
                                }
                            ]
                        },
                        "text/html": [
                            "<table>",
                            "<tr><th>authors</th><th>title</th><th>average_rating</th><th>tag_id</th></tr>",
                            "<tr><td>Hervé Tullet, Christopher Franceschelli</td><td>Press Here</td><td>4.44</td><td>19445</td></tr>",
                            "<tr><td>Kevin Henkes</td><td>Chrysanthemum</td><td>4.31</td><td>19445</td></tr>",
                            "<tr><td>Douglas R. Hofstadter</td><td>Gödel, Escher, Bach: An Eternal Golden Braid</td><td>4.3</td><td>19445</td></tr>",
                            "<tr><td>Eric Carle</td><td>The Very Hungry Caterpillar Board Book</td><td>4.29</td><td>19445</td></tr>",
                            "<tr><td>Richard Feynman</td><td>Surely You're Joking, Mr. Feynman!: Adventures of a Curious Character</td><td>4.29</td><td>19445</td></tr>",
                            "<tr><td>Simon Singh</td><td>The Code Book: The Science of Secrecy from Ancient Egypt to Quantum Cryptography</td><td>4.28</td><td>19445</td></tr>",
                            "<tr><td>Audrey Wood, Don    Wood</td><td>The Napping House</td><td>4.27</td><td>19445</td></tr>",
                            "<tr><td>Neal Stephenson</td><td>Cryptonomicon</td><td>4.25</td><td>19445</td></tr>",
                            "<tr><td>Michael   Lewis</td><td>Moneyball: The Art of Winning an Unfair Game</td><td>4.24</td><td>19445</td></tr>",
                            "<tr><td>Richard Feynman</td><td>QED: The Strange Theory of Light and Matter</td><td>4.23</td><td>19445</td></tr>",
                            "<tr><td>Kevin Henkes</td><td>Wemberly Worried</td><td>4.22</td><td>19445</td></tr>",
                            "<tr><td>Norton Juster, Jules Feiffer</td><td>The Phantom Tollbooth</td><td>4.22</td><td>19445</td></tr>",
                            "<tr><td>Simon Singh</td><td>Fermat's Enigma: The Epic Quest to Solve the World's Greatest Mathematical Problem</td><td>4.22</td><td>19445</td></tr>",
                            "<tr><td>Vera B. Williams</td><td>A Chair for My Mother</td><td>4.2</td><td>19445</td></tr>",
                            "<tr><td>Tom Stoppard</td><td>Arcadia</td><td>4.19</td><td>19445</td></tr>",
                            "<tr><td>Richard Feynman</td><td>Six Easy Pieces: Essentials of Physics By Its Most Brilliant Teacher</td><td>4.19</td><td>19445</td></tr>",
                            "<tr><td>Neal Stephenson</td><td>Anathem</td><td>4.18</td><td>19445</td></tr>",
                            "<tr><td>Randall Munroe</td><td>What If?: Serious Scientific Answers to Absurd Hypothetical Questions</td><td>4.17</td><td>19445</td></tr>",
                            "<tr><td>Albert Einstein, Nigel Calder, Robert W. Lawson</td><td>Relativity: The Special and the General Theory</td><td>4.17</td><td>19445</td></tr>",
                            "<tr><td>James Gleick</td><td>Genius: The Life and Science of Richard Feynman</td><td>4.16</td><td>19445</td></tr>",
                            "<tr><td>Bruno Ernst, M.C. Escher, John E. Brigham</td><td>The Magic Mirror of M.C. Escher</td><td>4.15</td><td>19445</td></tr>",
                            "<tr><td>Ellen Stoll Walsh</td><td>Mouse Paint</td><td>4.15</td><td>19445</td></tr>",
                            "<tr><td>Dr. Seuss</td><td>One Fish, Two Fish, Red Fish, Blue Fish</td><td>4.12</td><td>19445</td></tr>",
                            "<tr><td>Sylvia Nasar</td><td>A Beautiful Mind</td><td>4.12</td><td>19445</td></tr>",
                            "<tr><td>Esphyr Slobodkina</td><td>Caps for Sale: A Tale of a Peddler, Some Monkeys and Their Monkey Business</td><td>4.12</td><td>19445</td></tr>",
                            "<tr><td>Michio Kaku</td><td>Hyperspace</td><td>4.11</td><td>19445</td></tr>",
                            "<tr><td>Theo LeSieg, Roy McKie</td><td>Ten Apples Up On Top!</td><td>4.11</td><td>19445</td></tr>",
                            "<tr><td>Jean Lee Latham</td><td>Carry On, Mr. Bowditch</td><td>4.11</td><td>19445</td></tr>",
                            "<tr><td>Eric Carle</td><td>The Grouchy Ladybug</td><td>4.09</td><td>19445</td></tr>",
                            "<tr><td>Wanda Gág</td><td>Millions of Cats</td><td>4.08</td><td>19445</td></tr>",
                            "<tr><td>Ludwig Wittgenstein</td><td>Tractatus Logico-Philosophicus</td><td>4.06</td><td>19445</td></tr>",
                            "<tr><td>Burton G. Malkiel</td><td>A Random Walk Down Wall Street</td><td>4.05</td><td>19445</td></tr>",
                            "<tr><td>Nassim Nicholas Taleb</td><td>Fooled by Randomness: The Hidden Role of Chance in Life and in the Markets</td><td>4.05</td><td>19445</td></tr>",
                            "<tr><td>Nassim Nicholas Taleb</td><td>Antifragile: Things That Gain from Disorder</td><td>4.04</td><td>19445</td></tr>",
                            "<tr><td>David Auburn</td><td>Proof</td><td>4.01</td><td>19445</td></tr>",
                            "<tr><td>Apostolos Doxiadis, Christos H. Papadimitriou, Alecos Papadatos, Annie Di Donna</td><td>Logicomix: An epic search for truth</td><td>4.01</td><td>19445</td></tr>",
                            "<tr><td>James Gleick</td><td>The Information: A History, a Theory, a Flood</td><td>3.98</td><td>19445</td></tr>",
                            "<tr><td>James Gleick</td><td>Chaos: Making a New Science</td><td>3.98</td><td>19445</td></tr>",
                            "<tr><td>Fritjof Capra</td><td>The Tao of Physics: An Exploration of the Parallels between Modern Physics and Eastern Mysticism</td><td>3.96</td><td>19445</td></tr>",
                            "<tr><td>Nate Silver</td><td>The Signal and the Noise: Why So Many Predictions Fail - But Some Don't</td><td>3.96</td><td>19445</td></tr>",
                            "<tr><td>Dava Sobel, Neil Armstrong</td><td>Longitude: The True Story of a Lone Genius Who Solved the Greatest Scientific Problem of His Time</td><td>3.95</td><td>19445</td></tr>",
                            "<tr><td>Yōko Ogawa, Stephen Snyder</td><td>The Housekeeper and the Professor</td><td>3.94</td><td>19445</td></tr>",
                            "<tr><td>M.C. Escher, Bruce Brooks Pfeiffer</td><td>M.C. Escher: The Graphic Work</td><td>3.93</td><td>19445</td></tr>",
                            "<tr><td>Margot Lee Shetterly</td><td>Hidden Figures: The American Dream and the Untold Story of the Black Women Mathematicians Who Helped Win the Space Race</td><td>3.92</td><td>19445</td></tr>",
                            "<tr><td>Jacqueline Davies</td><td>The Lemonade War (The Lemonade War, #1)</td><td>3.88</td><td>19445</td></tr>",
                            "<tr><td>Nassim Nicholas Taleb</td><td>The Black Swan: The Impact of the Highly Improbable</td><td>3.88</td><td>19445</td></tr>",
                            "<tr><td>Leonard Mlodinow</td><td>The Drunkard's Walk: How Randomness Rules Our Lives</td><td>3.88</td><td>19445</td></tr>",
                            "<tr><td>Ben Mezrich</td><td>Bringing Down the House: The Inside Story of Six M.I.T. Students Who Took Vegas for Millions</td><td>3.87</td><td>19445</td></tr>",
                            "<tr><td>Daniel Tammet</td><td>Born on a Blue Day: Inside the Extraordinary Mind of an Autistic Savant</td><td>3.84</td><td>19445</td></tr>",
                            "<tr><td>Edwin A. Abbott, Banesh Hoffmann</td><td>Flatland: A Romance of Many Dimensions</td><td>3.81</td><td>19445</td></tr>",
                            "<tr><td>Christian Rudder</td><td>Dataclysm: Who We Are (When We Think No One's Looking)</td><td>3.72</td><td>19445</td></tr>",
                            "<tr><td>Blue Balliett, Brett Helquist</td><td>Chasing Vermeer (Chasing Vermeer, #1)</td><td>3.71</td><td>19445</td></tr>",
                            "<tr><td>Paolo Giordano, Shaun Whiteside</td><td>The Solitude of Prime Numbers</td><td>3.58</td><td>19445</td></tr>",
                            "</table>"
                        ]
                    }
                }
            ],
            "execution_count": 11
        },
        {
            "cell_type": "markdown",
            "source": [
                "# Part 2: Choose Another Month\n",
                "\n",
                "Choose another month and plan at least 2 events / promotions and answer the following questions.\n",
                "\n",
                "Which month did you choose?  \n",
                "\n",
                "What 2 events / promotions are you highlighting?\n",
                "\n",
                "> 1.   \n",
                ">     \n",
                "\n",
                "> 2.   \n",
                ">"
            ],
            "metadata": {
                "azdata_cell_guid": "3eaf376d-9de3-4553-a9d0-9caf74ee3d6a"
            },
            "attachments": {}
        },
        {
            "cell_type": "markdown",
            "source": [
                "# Part 3: Summarize your Work\n",
                "\n",
                "For each event write at least one query that joins any two tables in the BooksDB to support your choice and record you thoughts as to why you used the paticlular query. At least one of your queries needs to include a HAVING clause."
            ],
            "metadata": {
                "azdata_cell_guid": "1ba1363a-4f02-4962-a95a-93b80c5926b1"
            },
            "attachments": {}
        },
        {
            "cell_type": "code",
            "source": [
                "-- Event 1 Query"
            ],
            "metadata": {
                "azdata_cell_guid": "f50d32ce-4cb2-4af2-acb1-607777a76cf8",
                "language": "sql"
            },
            "outputs": [],
            "execution_count": null
        },
        {
            "cell_type": "code",
            "source": [
                ""
            ],
            "metadata": {
                "azdata_cell_guid": "5606f7f2-c46b-42d3-ac64-7ae21c3394f8",
                "language": "sql"
            },
            "outputs": [],
            "execution_count": null
        },
        {
            "cell_type": "markdown",
            "source": [
                "### **Summary of event 1:**\n",
                "\n",
                "Double Click to edit."
            ],
            "metadata": {
                "azdata_cell_guid": "3bc72d4c-077b-42d3-9528-9aff8e7b6cf3"
            },
            "attachments": {}
        },
        {
            "cell_type": "code",
            "source": [
                "-- Event 2 Query"
            ],
            "metadata": {
                "azdata_cell_guid": "dca0a98f-065f-4b0e-9d93-fcb01cad668c",
                "language": "sql"
            },
            "outputs": [],
            "execution_count": null
        },
        {
            "cell_type": "code",
            "source": [
                ""
            ],
            "metadata": {
                "azdata_cell_guid": "3aaae3a8-eff7-4b37-8970-2d913a67239b",
                "language": "sql"
            },
            "outputs": [],
            "execution_count": null
        },
        {
            "cell_type": "markdown",
            "source": [
                "### **Summary of event 2:**\n",
                "\n",
                "Double Click to edit."
            ],
            "metadata": {
                "azdata_cell_guid": "99d518dc-cd8b-42d6-9a9d-708771c9aa99"
            },
            "attachments": {}
        }
    ]
}